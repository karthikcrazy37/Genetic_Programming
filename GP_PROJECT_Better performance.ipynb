{
 "cells": [
  {
   "cell_type": "code",
   "execution_count": 1,
   "metadata": {
    "ExecuteTime": {
     "end_time": "2023-10-30T21:57:29.812613Z",
     "start_time": "2023-10-30T21:57:28.714524Z"
    }
   },
   "outputs": [
    {
     "name": "stdout",
     "output_type": "stream",
     "text": [
      "<class 'pandas.core.frame.DataFrame'>\n",
      "RangeIndex: 5200 entries, 0 to 5199\n",
      "Data columns (total 12 columns):\n",
      " #   Column          Non-Null Count  Dtype \n",
      "---  ------          --------------  ----- \n",
      " 0   age             5200 non-null   int64 \n",
      " 1   workclass       5200 non-null   object\n",
      " 2   education       5200 non-null   object\n",
      " 3   marital-status  5200 non-null   object\n",
      " 4   relationship    5200 non-null   object\n",
      " 5   race            5200 non-null   object\n",
      " 6   sex             5200 non-null   object\n",
      " 7   capital-gain    5200 non-null   int64 \n",
      " 8   capital-loss    5200 non-null   int64 \n",
      " 9   hours-per-week  5200 non-null   int64 \n",
      " 10  native-country  5200 non-null   object\n",
      " 11  income          5200 non-null   object\n",
      "dtypes: int64(4), object(8)\n",
      "memory usage: 487.6+ KB\n"
     ]
    },
    {
     "data": {
      "text/plain": [
       "(None,\n",
       "    age         workclass  education      marital-status   relationship   race  \\\n",
       " 0   28           Private  Bachelors       Never-married  Not-in-family  White   \n",
       " 1   34  Self-emp-not-inc  Bachelors  Married-civ-spouse        Husband  Black   \n",
       " 2   32           Private  Bachelors       Never-married  Not-in-family  Black   \n",
       " 3   46           Private  Bachelors            Divorced  Not-in-family  White   \n",
       " 4   44           Private  Bachelors  Married-civ-spouse        Husband  White   \n",
       " \n",
       "       sex  capital-gain  capital-loss  hours-per-week native-country income  \n",
       " 0    Male             0             0              40  United-States  <=50K  \n",
       " 1    Male             0          1887              48  United-States   >50K  \n",
       " 2  Female             0             0              40  United-States  <=50K  \n",
       " 3    Male             0             0              40         Others  <=50K  \n",
       " 4    Male             0             0              50  United-States   >50K  )"
      ]
     },
     "execution_count": 1,
     "metadata": {},
     "output_type": "execute_result"
    }
   ],
   "source": [
    "import pandas as pd\n",
    "import random\n",
    "import operator\n",
    "import numpy as np\n",
    "from sklearn.metrics import accuracy_score\n",
    "from deap import creator, base, tools, gp, algorithms\n",
    "import numpy as np\n",
    "# Suppressing Warnings:\n",
    "import warnings\n",
    "warnings.filterwarnings(\"ignore\")\n",
    "\n",
    "\n",
    "import pandas as pd\n",
    "\n",
    "# Load data\n",
    "train_data = pd.read_csv('adult_training.csv')\n",
    "test_data = pd.read_csv('adult_test.csv')\n",
    "\n",
    "# Display basic information about the data and first few rows\n",
    "train_info = train_data.info()\n",
    "train_head = train_data.head()\n",
    "\n",
    "train_info, train_head\n"
   ]
  },
  {
   "cell_type": "code",
   "execution_count": 2,
   "metadata": {
    "ExecuteTime": {
     "end_time": "2023-10-30T21:57:29.843634Z",
     "start_time": "2023-10-30T21:57:29.814615Z"
    }
   },
   "outputs": [
    {
     "name": "stdout",
     "output_type": "stream",
     "text": [
      "<class 'pandas.core.frame.DataFrame'>\n",
      "RangeIndex: 5200 entries, 0 to 5199\n",
      "Data columns (total 12 columns):\n",
      " #   Column          Non-Null Count  Dtype \n",
      "---  ------          --------------  ----- \n",
      " 0   age             5200 non-null   int64 \n",
      " 1   workclass       5200 non-null   object\n",
      " 2   education       5200 non-null   object\n",
      " 3   marital-status  5200 non-null   object\n",
      " 4   relationship    5200 non-null   object\n",
      " 5   race            5200 non-null   object\n",
      " 6   sex             5200 non-null   object\n",
      " 7   capital-gain    5200 non-null   int64 \n",
      " 8   capital-loss    5200 non-null   int64 \n",
      " 9   hours-per-week  5200 non-null   int64 \n",
      " 10  native-country  5200 non-null   object\n",
      " 11  income          5200 non-null   object\n",
      "dtypes: int64(4), object(8)\n",
      "memory usage: 487.6+ KB\n"
     ]
    }
   ],
   "source": [
    "#missing values\n",
    "\n",
    "\n",
    "# Replace '?' with NaN and then drop rows with missing values\n",
    "train_data = train_data.replace('?', pd.NA).dropna()\n",
    "\n",
    "# Display basic information about the data after handling missing values\n",
    "train_info_after_missing_values = train_data.info()\n",
    "train_info_after_missing_values\n"
   ]
  },
  {
   "cell_type": "code",
   "execution_count": 3,
   "metadata": {
    "ExecuteTime": {
     "end_time": "2023-10-30T21:57:29.875640Z",
     "start_time": "2023-10-30T21:57:29.845642Z"
    }
   },
   "outputs": [
    {
     "data": {
      "text/html": [
       "<div>\n",
       "<style scoped>\n",
       "    .dataframe tbody tr th:only-of-type {\n",
       "        vertical-align: middle;\n",
       "    }\n",
       "\n",
       "    .dataframe tbody tr th {\n",
       "        vertical-align: top;\n",
       "    }\n",
       "\n",
       "    .dataframe thead th {\n",
       "        text-align: right;\n",
       "    }\n",
       "</style>\n",
       "<table border=\"1\" class=\"dataframe\">\n",
       "  <thead>\n",
       "    <tr style=\"text-align: right;\">\n",
       "      <th></th>\n",
       "      <th>age</th>\n",
       "      <th>capital-gain</th>\n",
       "      <th>capital-loss</th>\n",
       "      <th>hours-per-week</th>\n",
       "      <th>income</th>\n",
       "      <th>workclass_Private</th>\n",
       "      <th>workclass_Self-emp-not-inc</th>\n",
       "      <th>workclass_State-gov</th>\n",
       "      <th>education_Doctorate</th>\n",
       "      <th>education_HS-grad</th>\n",
       "      <th>...</th>\n",
       "      <th>education_Some-college</th>\n",
       "      <th>marital-status_Married-civ-spouse</th>\n",
       "      <th>marital-status_Never-married</th>\n",
       "      <th>relationship_Not-in-family</th>\n",
       "      <th>relationship_Other-relative</th>\n",
       "      <th>relationship_Wife</th>\n",
       "      <th>race_Black</th>\n",
       "      <th>race_White</th>\n",
       "      <th>sex_Male</th>\n",
       "      <th>native-country_United-States</th>\n",
       "    </tr>\n",
       "  </thead>\n",
       "  <tbody>\n",
       "    <tr>\n",
       "      <th>0</th>\n",
       "      <td>28</td>\n",
       "      <td>0</td>\n",
       "      <td>0</td>\n",
       "      <td>40</td>\n",
       "      <td>0</td>\n",
       "      <td>1</td>\n",
       "      <td>0</td>\n",
       "      <td>0</td>\n",
       "      <td>0</td>\n",
       "      <td>0</td>\n",
       "      <td>...</td>\n",
       "      <td>0</td>\n",
       "      <td>0</td>\n",
       "      <td>1</td>\n",
       "      <td>1</td>\n",
       "      <td>0</td>\n",
       "      <td>0</td>\n",
       "      <td>0</td>\n",
       "      <td>1</td>\n",
       "      <td>1</td>\n",
       "      <td>1</td>\n",
       "    </tr>\n",
       "    <tr>\n",
       "      <th>1</th>\n",
       "      <td>34</td>\n",
       "      <td>0</td>\n",
       "      <td>1887</td>\n",
       "      <td>48</td>\n",
       "      <td>1</td>\n",
       "      <td>0</td>\n",
       "      <td>1</td>\n",
       "      <td>0</td>\n",
       "      <td>0</td>\n",
       "      <td>0</td>\n",
       "      <td>...</td>\n",
       "      <td>0</td>\n",
       "      <td>1</td>\n",
       "      <td>0</td>\n",
       "      <td>0</td>\n",
       "      <td>0</td>\n",
       "      <td>0</td>\n",
       "      <td>1</td>\n",
       "      <td>0</td>\n",
       "      <td>1</td>\n",
       "      <td>1</td>\n",
       "    </tr>\n",
       "    <tr>\n",
       "      <th>2</th>\n",
       "      <td>32</td>\n",
       "      <td>0</td>\n",
       "      <td>0</td>\n",
       "      <td>40</td>\n",
       "      <td>0</td>\n",
       "      <td>1</td>\n",
       "      <td>0</td>\n",
       "      <td>0</td>\n",
       "      <td>0</td>\n",
       "      <td>0</td>\n",
       "      <td>...</td>\n",
       "      <td>0</td>\n",
       "      <td>0</td>\n",
       "      <td>1</td>\n",
       "      <td>1</td>\n",
       "      <td>0</td>\n",
       "      <td>0</td>\n",
       "      <td>1</td>\n",
       "      <td>0</td>\n",
       "      <td>0</td>\n",
       "      <td>1</td>\n",
       "    </tr>\n",
       "    <tr>\n",
       "      <th>3</th>\n",
       "      <td>46</td>\n",
       "      <td>0</td>\n",
       "      <td>0</td>\n",
       "      <td>40</td>\n",
       "      <td>0</td>\n",
       "      <td>1</td>\n",
       "      <td>0</td>\n",
       "      <td>0</td>\n",
       "      <td>0</td>\n",
       "      <td>0</td>\n",
       "      <td>...</td>\n",
       "      <td>0</td>\n",
       "      <td>0</td>\n",
       "      <td>0</td>\n",
       "      <td>1</td>\n",
       "      <td>0</td>\n",
       "      <td>0</td>\n",
       "      <td>0</td>\n",
       "      <td>1</td>\n",
       "      <td>1</td>\n",
       "      <td>0</td>\n",
       "    </tr>\n",
       "    <tr>\n",
       "      <th>4</th>\n",
       "      <td>44</td>\n",
       "      <td>0</td>\n",
       "      <td>0</td>\n",
       "      <td>50</td>\n",
       "      <td>1</td>\n",
       "      <td>1</td>\n",
       "      <td>0</td>\n",
       "      <td>0</td>\n",
       "      <td>0</td>\n",
       "      <td>0</td>\n",
       "      <td>...</td>\n",
       "      <td>0</td>\n",
       "      <td>1</td>\n",
       "      <td>0</td>\n",
       "      <td>0</td>\n",
       "      <td>0</td>\n",
       "      <td>0</td>\n",
       "      <td>0</td>\n",
       "      <td>1</td>\n",
       "      <td>1</td>\n",
       "      <td>1</td>\n",
       "    </tr>\n",
       "  </tbody>\n",
       "</table>\n",
       "<p>5 rows × 21 columns</p>\n",
       "</div>"
      ],
      "text/plain": [
       "   age  capital-gain  capital-loss  hours-per-week  income  workclass_Private  \\\n",
       "0   28             0             0              40       0                  1   \n",
       "1   34             0          1887              48       1                  0   \n",
       "2   32             0             0              40       0                  1   \n",
       "3   46             0             0              40       0                  1   \n",
       "4   44             0             0              50       1                  1   \n",
       "\n",
       "   workclass_Self-emp-not-inc  workclass_State-gov  education_Doctorate  \\\n",
       "0                           0                    0                    0   \n",
       "1                           1                    0                    0   \n",
       "2                           0                    0                    0   \n",
       "3                           0                    0                    0   \n",
       "4                           0                    0                    0   \n",
       "\n",
       "   education_HS-grad  ...  education_Some-college  \\\n",
       "0                  0  ...                       0   \n",
       "1                  0  ...                       0   \n",
       "2                  0  ...                       0   \n",
       "3                  0  ...                       0   \n",
       "4                  0  ...                       0   \n",
       "\n",
       "   marital-status_Married-civ-spouse  marital-status_Never-married  \\\n",
       "0                                  0                             1   \n",
       "1                                  1                             0   \n",
       "2                                  0                             1   \n",
       "3                                  0                             0   \n",
       "4                                  1                             0   \n",
       "\n",
       "   relationship_Not-in-family  relationship_Other-relative  relationship_Wife  \\\n",
       "0                           1                            0                  0   \n",
       "1                           0                            0                  0   \n",
       "2                           1                            0                  0   \n",
       "3                           1                            0                  0   \n",
       "4                           0                            0                  0   \n",
       "\n",
       "   race_Black  race_White  sex_Male  native-country_United-States  \n",
       "0           0           1         1                             1  \n",
       "1           1           0         1                             1  \n",
       "2           1           0         0                             1  \n",
       "3           0           1         1                             0  \n",
       "4           0           1         1                             1  \n",
       "\n",
       "[5 rows x 21 columns]"
      ]
     },
     "execution_count": 3,
     "metadata": {},
     "output_type": "execute_result"
    }
   ],
   "source": [
    "#encoding the target variable income\n",
    "\n",
    "from sklearn.preprocessing import LabelEncoder\n",
    "\n",
    "# Convert target variable 'income' to numerical format\n",
    "label_encoder = LabelEncoder()\n",
    "train_data['income'] = label_encoder.fit_transform(train_data['income'])\n",
    "\n",
    "# One-hot encode categorical features\n",
    "train_data = pd.get_dummies(train_data, drop_first=True)\n",
    "\n",
    "# Display first few rows of the data after preprocessing\n",
    "train_head_after_preprocessing = train_data.head()\n",
    "train_head_after_preprocessing\n"
   ]
  },
  {
   "cell_type": "code",
   "execution_count": 4,
   "metadata": {
    "ExecuteTime": {
     "end_time": "2023-10-30T21:57:29.891646Z",
     "start_time": "2023-10-30T21:57:29.877642Z"
    }
   },
   "outputs": [],
   "source": [
    "#gp parameters\n",
    "\n",
    "# Set the GP parameters\n",
    "POPULATION_SIZE = 200\n",
    "P_CROSSOVER = 0.8\n",
    "P_MUTATION = 0.2\n",
    "MAX_GENERATIONS = 40\n",
    "HALL_OF_FAME_SIZE = 5\n",
    "\n",
    "RANDOM_SEED = 42\n",
    "random.seed(RANDOM_SEED)\n",
    "\n",
    "MIN_TREE_HEIGHT = 2\n",
    "MAX_TREE_HEIGHT = 6\n",
    "LIMIT_TREE_HEIGHT = 17\n",
    "MUT_MIN_TREE_HEIGHT = 0\n",
    "MUT_MAX_TREE_HEIGHT = 2\n"
   ]
  },
  {
   "cell_type": "code",
   "execution_count": 5,
   "metadata": {
    "ExecuteTime": {
     "end_time": "2023-10-30T21:57:29.907648Z",
     "start_time": "2023-10-30T21:57:29.893646Z"
    }
   },
   "outputs": [],
   "source": [
    "# Define custom functions for handling categorical data\n",
    "def is_equal(arg1, arg2):\n",
    "    return 1 if arg1 == arg2 else 0\n",
    "\n",
    "def is_not_equal(arg1, arg2):\n",
    "    return 1 if arg1 != arg2 else 0\n",
    "\n",
    "def safe_add(x, y):\n",
    "    try:\n",
    "        return x + y\n",
    "    except TypeError:\n",
    "        return 0\n",
    "\n",
    "def safe_sub(x, y):\n",
    "    try:\n",
    "        return x - y\n",
    "    except TypeError:\n",
    "        return 0\n",
    "\n",
    "def safe_mul(x, y):\n",
    "    try:\n",
    "        return x * y\n",
    "    except TypeError:\n",
    "        return 0\n",
    "\n",
    "def safe_div(x, y):\n",
    "    try:\n",
    "        return x / y\n",
    "    except (TypeError, ZeroDivisionError):\n",
    "        return 1\n"
   ]
  },
  {
   "cell_type": "code",
   "execution_count": 6,
   "metadata": {
    "ExecuteTime": {
     "end_time": "2023-10-30T21:57:29.923685Z",
     "start_time": "2023-10-30T21:57:29.908649Z"
    }
   },
   "outputs": [],
   "source": [
    "from deap import creator, base, tools, gp\n",
    "import numpy as np\n",
    "import random\n",
    "\n",
    "# Separate features and target variable\n",
    "train_features = train_data.drop('income', axis=1)\n",
    "train_target = train_data['income']\n",
    "\n",
    "\n",
    "\n",
    "from deap import creator\n",
    "\n",
    "# Define the creator\n",
    "creator.create(\"FitnessMax\", base.Fitness, weights=(1.0,))\n",
    "creator.create(\"Individual\", gp.PrimitiveTree, fitness=creator.FitnessMax)"
   ]
  },
  {
   "cell_type": "code",
   "execution_count": 7,
   "metadata": {
    "ExecuteTime": {
     "end_time": "2023-10-30T21:57:29.939175Z",
     "start_time": "2023-10-30T21:57:29.925666Z"
    }
   },
   "outputs": [],
   "source": [
    "# Create a gp.PrimitiveSet\n",
    "# Update the pset to match the new structure of the data\n",
    "pset = gp.PrimitiveSetTyped(\"MAIN\", [float] * train_features.shape[1], int)\n",
    "\n",
    "# Add functions to the primitive set\n",
    "pset.addPrimitive(safe_add, [float, float], float)\n",
    "pset.addPrimitive(safe_sub, [float, float], float)\n",
    "pset.addPrimitive(safe_mul, [float, float], float)\n",
    "pset.addPrimitive(safe_div, [float, float], float)\n",
    "pset.addPrimitive(is_equal, [float, float], int)\n",
    "pset.addPrimitive(is_not_equal, [float, float], int)\n",
    "\n",
    "# Add some constants\n",
    "pset.addEphemeralConstant(\"rand101\", lambda: random.randint(-1, 1), int)\n",
    "\n",
    "\n",
    "\n",
    "\n",
    "# Add terminals to the primitive set\n",
    "#for col in train_data.columns:\n",
    "#    if train_data[col].dtype == 'int64':\n",
    "#        pset.addTerminal(col, int)\n",
    "#    else:\n",
    "#        pset.addTerminal(col, object)\n",
    "\n",
    "# Add some constants\n",
    "#pset.addTerminal(1, int)\n",
    "#pset.addTerminal(0, int)"
   ]
  },
  {
   "cell_type": "code",
   "execution_count": 8,
   "metadata": {
    "ExecuteTime": {
     "end_time": "2023-10-30T22:00:11.695961Z",
     "start_time": "2023-10-30T21:57:29.942198Z"
    }
   },
   "outputs": [
    {
     "name": "stdout",
     "output_type": "stream",
     "text": [
      "gen\tnevals\tavg     \tmin     \tmax     \n",
      "0  \t200   \t0.495264\t0.326154\t0.740385\n",
      "1  \t154   \t0.608771\t0.309808\t0.693269\n",
      "2  \t180   \t0.64046 \t0       \t0.739615\n",
      "3  \t159   \t0.648288\t0.315385\t0.739615\n",
      "4  \t166   \t0.639627\t0.3125  \t0.726346\n",
      "5  \t166   \t0.650142\t0       \t0.737692\n",
      "6  \t172   \t0.640801\t0.307885\t0.737692\n",
      "7  \t172   \t0.652195\t0       \t0.737692\n",
      "8  \t151   \t0.652571\t0       \t0.733654\n",
      "9  \t155   \t0.652768\t0       \t0.729423\n",
      "10 \t144   \t0.666038\t0.339423\t0.735192\n",
      "11 \t158   \t0.65837 \t0       \t0.736154\n",
      "12 \t171   \t0.65528 \t0.335385\t0.742115\n",
      "13 \t170   \t0.655783\t0       \t0.741923\n",
      "14 \t170   \t0.644747\t0       \t0.741923\n",
      "15 \t165   \t0.661784\t0.317885\t0.759615\n",
      "16 \t179   \t0.65421 \t0       \t0.759423\n",
      "17 \t171   \t0.662646\t0.3125  \t0.759423\n",
      "18 \t169   \t0.673945\t0       \t0.759423\n",
      "19 \t163   \t0.695555\t0.3925  \t0.759615\n",
      "20 \t163   \t0.692398\t0.335385\t0.759615\n",
      "21 \t173   \t0.697312\t0.335385\t0.759615\n",
      "22 \t170   \t0.692793\t0.335385\t0.759423\n",
      "23 \t169   \t0.70079 \t0.335385\t0.759615\n",
      "24 \t158   \t0.711705\t0.353846\t0.760577\n",
      "25 \t167   \t0.700906\t0.335385\t0.760577\n",
      "26 \t156   \t0.712562\t0       \t0.760577\n",
      "27 \t176   \t0.710369\t0.335385\t0.760577\n",
      "28 \t170   \t0.708018\t0.335385\t0.760577\n",
      "29 \t152   \t0.721303\t0.335385\t0.760577\n",
      "30 \t167   \t0.710561\t0       \t0.760577\n",
      "31 \t169   \t0.718549\t0.335385\t0.760577\n",
      "32 \t182   \t0.716553\t0.381538\t0.760577\n",
      "33 \t172   \t0.718673\t0.335385\t0.760577\n",
      "34 \t168   \t0.72391 \t0       \t0.760769\n",
      "35 \t162   \t0.737132\t0.39    \t0.760769\n",
      "36 \t164   \t0.730515\t0.413846\t0.760769\n",
      "37 \t178   \t0.736105\t0.552885\t0.760769\n",
      "38 \t171   \t0.740365\t0.552885\t0.760769\n",
      "39 \t166   \t0.73906 \t0.550577\t0.760769\n",
      "40 \t169   \t0.736611\t0.335385\t0.760769\n"
     ]
    },
    {
     "data": {
      "text/plain": [
       "([<deap.gp.Primitive at 0x7fed4ad48ef0>,\n",
       "  <deap.gp.Primitive at 0x7fed4ad48c20>,\n",
       "  <deap.gp.Primitive at 0x7fed4ad48e50>,\n",
       "  <deap.gp.Primitive at 0x7fed4ad48db0>,\n",
       "  <deap.gp.Terminal at 0x7fed4a9acfc0>,\n",
       "  <deap.gp.Primitive at 0x7fed4ad48c20>,\n",
       "  <deap.gp.Primitive at 0x7fed4ad48e50>,\n",
       "  <deap.gp.Terminal at 0x7fed4a9ad340>,\n",
       "  <deap.gp.Primitive at 0x7fed4ad48c20>,\n",
       "  <deap.gp.Terminal at 0x7fed4a9ace80>,\n",
       "  <deap.gp.Terminal at 0x7fed4a9ad1c0>,\n",
       "  <deap.gp.Primitive at 0x7fed4ad48e50>,\n",
       "  <deap.gp.Terminal at 0x7fed4a9ad4c0>,\n",
       "  <deap.gp.Terminal at 0x7fed4a9ad3c0>,\n",
       "  <deap.gp.Primitive at 0x7fed4ad48c20>,\n",
       "  <deap.gp.Terminal at 0x7fed4a9ad140>,\n",
       "  <deap.gp.Terminal at 0x7fed4a9ad3c0>,\n",
       "  <deap.gp.Primitive at 0x7fed4ad48e50>,\n",
       "  <deap.gp.Primitive at 0x7fed4ad48db0>,\n",
       "  <deap.gp.Primitive at 0x7fed4ad48c20>,\n",
       "  <deap.gp.Primitive at 0x7fed4ad48c20>,\n",
       "  <deap.gp.Terminal at 0x7fed4a9ad640>,\n",
       "  <deap.gp.Primitive at 0x7fed4ad48c20>,\n",
       "  <deap.gp.Terminal at 0x7fed4a9ace80>,\n",
       "  <deap.gp.Terminal at 0x7fed4a9ad1c0>,\n",
       "  <deap.gp.Primitive at 0x7fed4ad48c20>,\n",
       "  <deap.gp.Primitive at 0x7fed4ad48db0>,\n",
       "  <deap.gp.Terminal at 0x7fed4a9ad340>,\n",
       "  <deap.gp.Primitive at 0x7fed4ad48c20>,\n",
       "  <deap.gp.Primitive at 0x7fed4ad48c20>,\n",
       "  <deap.gp.Terminal at 0x7fed4a9ad340>,\n",
       "  <deap.gp.Terminal at 0x7fed4a9ad4c0>,\n",
       "  <deap.gp.Terminal at 0x7fed4a9ad2c0>,\n",
       "  <deap.gp.Primitive at 0x7fed4ad48c20>,\n",
       "  <deap.gp.Terminal at 0x7fed4a9ad1c0>,\n",
       "  <deap.gp.Primitive at 0x7fed4ad48c20>,\n",
       "  <deap.gp.Primitive at 0x7fed4ad48c20>,\n",
       "  <deap.gp.Primitive at 0x7fed4ad48e50>,\n",
       "  <deap.gp.Terminal at 0x7fed4a9ad340>,\n",
       "  <deap.gp.Primitive at 0x7fed4ad48c20>,\n",
       "  <deap.gp.Terminal at 0x7fed4a9acfc0>,\n",
       "  <deap.gp.Terminal at 0x7fed4a9ad340>,\n",
       "  <deap.gp.Primitive at 0x7fed4ad48e50>,\n",
       "  <deap.gp.Terminal at 0x7fed4a9ad4c0>,\n",
       "  <deap.gp.Terminal at 0x7fed4a9ad3c0>,\n",
       "  <deap.gp.Terminal at 0x7fed4a9ad2c0>,\n",
       "  <deap.gp.Terminal at 0x7fed4a9ad540>,\n",
       "  <deap.gp.Terminal at 0x7fed4a9ad3c0>,\n",
       "  <deap.gp.Terminal at 0x7fed4a9ad040>],\n",
       " 0.7607692307692308)"
      ]
     },
     "execution_count": 8,
     "metadata": {},
     "output_type": "execute_result"
    }
   ],
   "source": [
    "\n",
    "\n",
    "# Define the fitness function\n",
    "def fitness_function(individual, data, target):\n",
    "    func = gp.compile(expr=individual, pset=pset)\n",
    "    predictions = np.round([func(*row) for row in data.values])  # Use .values to get a numpy representation\n",
    "    accuracy = accuracy_score(target, predictions)\n",
    "    return (accuracy,)  # Return a tuple with a single accuracy value\n",
    "\n",
    "# Create the toolbox\n",
    "toolbox = base.Toolbox()\n",
    "toolbox.register(\"expr\", gp.genHalfAndHalf, pset=pset, min_=MIN_TREE_HEIGHT, max_=MAX_TREE_HEIGHT)\n",
    "toolbox.register(\"individual\", tools.initIterate, creator.Individual, toolbox.expr)\n",
    "toolbox.register(\"population\", tools.initRepeat, list, toolbox.individual)\n",
    "toolbox.register(\"compile\", gp.compile, pset=pset)\n",
    "toolbox.register(\"evaluate\", fitness_function, data=train_features, target=train_target)\n",
    "toolbox.register(\"select\", tools.selTournament, tournsize=3)\n",
    "toolbox.register(\"mate\", gp.cxOnePoint)\n",
    "toolbox.register(\"expr_mut\", gp.genFull, min_=MUT_MIN_TREE_HEIGHT, max_=MUT_MAX_TREE_HEIGHT)\n",
    "toolbox.register(\"mutate\", gp.mutUniform, expr=toolbox.expr_mut, pset=pset)\n",
    "\n",
    "# Run genetic programming\n",
    "pop = toolbox.population(n=POPULATION_SIZE)\n",
    "hof = tools.HallOfFame(HALL_OF_FAME_SIZE)\n",
    "stats = tools.Statistics(lambda ind: ind.fitness.values)\n",
    "stats.register(\"avg\", np.mean)\n",
    "stats.register(\"min\", np.min)\n",
    "stats.register(\"max\", np.max)\n",
    "\n",
    "pop, log = algorithms.eaSimple(pop, toolbox, P_CROSSOVER, P_MUTATION, MAX_GENERATIONS, stats, halloffame=hof)\n",
    "\n",
    "# Display the best individual and its fitness value\n",
    "best_individual = hof[0]\n",
    "best_fitness = best_individual.fitness.values[0]\n",
    "\n",
    "best_individual, best_fitness\n"
   ]
  },
  {
   "cell_type": "code",
   "execution_count": 9,
   "metadata": {
    "ExecuteTime": {
     "end_time": "2023-10-30T22:00:12.194485Z",
     "start_time": "2023-10-30T22:00:11.696954Z"
    }
   },
   "outputs": [
    {
     "data": {
      "image/png": "[encoded data removed]",
      "text/plain": [
       "<Figure size 640x480 with 1 Axes>"
      ]
     },
     "metadata": {},
     "output_type": "display_data"
    }
   ],
   "source": [
    "import matplotlib.pyplot as plt\n",
    "\n",
    "# Extract values from the logbook\n",
    "gen = log.select(\"gen\")\n",
    "avg_fit = log.select(\"avg\")\n",
    "min_fit = log.select(\"min\")\n",
    "max_fit = log.select(\"max\")\n",
    "\n",
    "# Plot the data\n",
    "fig, ax1 = plt.subplots()\n",
    "\n",
    "line1 = ax1.plot(gen, avg_fit, \"b-\", label=\"Average Fitness\")\n",
    "line2 = ax1.plot(gen, min_fit, \"r-\", label=\"Minimum Fitness\")\n",
    "line3 = ax1.plot(gen, max_fit, \"g-\", label=\"Maximum Fitness\")\n",
    "\n",
    "ax1.set_xlabel(\"Generations\")\n",
    "ax1.set_ylabel(\"Fitness\")\n",
    "\n",
    "lines = line1 + line2 + line3\n",
    "labels = [l.get_label() for l in lines]\n",
    "ax1.legend(lines, labels, loc=\"best\")\n",
    "\n",
    "plt.show()\n"
   ]
  },
  {
   "cell_type": "code",
   "execution_count": null,
   "metadata": {},
   "outputs": [],
   "source": []
  },
  {
   "cell_type": "code",
   "execution_count": 15,
   "metadata": {
    "ExecuteTime": {
     "end_time": "2023-10-30T22:00:12.413712Z",
     "start_time": "2023-10-30T22:00:12.196486Z"
    }
   },
   "outputs": [
    {
     "name": "stdout",
     "output_type": "stream",
     "text": [
      "Number of rows in the test predictions CSV file: 10402\n"
     ]
    }
   ],
   "source": [
    "import pandas as pd\n",
    "from sklearn.preprocessing import LabelEncoder\n",
    "import numpy as np\n",
    "\n",
    "def predict_gp_individual(individual, data, pset):\n",
    "    func = gp.compile(expr=individual, pset=pset)\n",
    "    predictions = np.round([func(*row) for row in data.values])  # Use .values to get a numpy representation\n",
    "    return predictions\n",
    "\n",
    "# Load the test data and preprocess it in the same way as the training data\n",
    "#test_data = pd.read_csv('path/to/test/data.csv')\n",
    "# Load the test data and preprocess it in the same way as the training data\n",
    "# test_data = pd.read_csv('path/to/test/data.csv')\n",
    "# Load the test data and preprocess it in the same way as the training data\n",
    "# Load the test data and preprocess it in the same way as the training data\n",
    "# test_data = pd.read_csv('path/to/test/data.csv')\n",
    "test_data = test_data.replace('?', pd.NA).dropna()\n",
    "test_data = pd.get_dummies(test_data, drop_first=True)\n",
    "\n",
    "# Predict the test set using the best GP individual\n",
    "test_predictions = predict_gp_individual(best_individual, test_data, pset)\n",
    "\n",
    "# Save the predictions to a CSV file\n",
    "predictions_df = pd.DataFrame({'ID': range(1, len(test_predictions) + 1), 'income': test_predictions})\n",
    "predictions_df.to_csv('test_predictions1.csv', index=False)\n",
    "\n",
    "# Check the number of rows in the test predictions CSV file\n",
    "num_rows = len(predictions_df)\n",
    "print(f\"Number of rows in the test predictions CSV file: {num_rows}\")\n"
   ]
  },
  {
   "cell_type": "code",
   "execution_count": 11,
   "metadata": {
    "ExecuteTime": {
     "end_time": "2023-10-30T22:00:12.429730Z",
     "start_time": "2023-10-30T22:00:12.414715Z"
    }
   },
   "outputs": [
    {
     "data": {
      "text/plain": [
       "Index(['age', 'capital-gain', 'capital-loss', 'hours-per-week',\n",
       "       'workclass_Private', 'workclass_Self-emp-not-inc',\n",
       "       'workclass_State-gov', 'education_Doctorate', 'education_HS-grad',\n",
       "       'education_Masters', 'education_Some-college',\n",
       "       'marital-status_Married-civ-spouse', 'marital-status_Never-married',\n",
       "       'relationship_Not-in-family', 'relationship_Other-relative',\n",
       "       'relationship_Wife', 'race_Black', 'race_White', 'sex_Male',\n",
       "       'native-country_United-States'],\n",
       "      dtype='object')"
      ]
     },
     "execution_count": 11,
     "metadata": {},
     "output_type": "execute_result"
    }
   ],
   "source": [
    "test_data.columns"
   ]
  },
  {
   "cell_type": "code",
   "execution_count": 12,
   "metadata": {
    "ExecuteTime": {
     "end_time": "2023-10-30T22:00:12.445840Z",
     "start_time": "2023-10-30T22:00:12.430730Z"
    }
   },
   "outputs": [
    {
     "data": {
      "text/html": [
       "<div>\n",
       "<style scoped>\n",
       "    .dataframe tbody tr th:only-of-type {\n",
       "        vertical-align: middle;\n",
       "    }\n",
       "\n",
       "    .dataframe tbody tr th {\n",
       "        vertical-align: top;\n",
       "    }\n",
       "\n",
       "    .dataframe thead th {\n",
       "        text-align: right;\n",
       "    }\n",
       "</style>\n",
       "<table border=\"1\" class=\"dataframe\">\n",
       "  <thead>\n",
       "    <tr style=\"text-align: right;\">\n",
       "      <th></th>\n",
       "      <th>ID</th>\n",
       "      <th>income</th>\n",
       "    </tr>\n",
       "  </thead>\n",
       "  <tbody>\n",
       "    <tr>\n",
       "      <th>0</th>\n",
       "      <td>1</td>\n",
       "      <td>0</td>\n",
       "    </tr>\n",
       "    <tr>\n",
       "      <th>1</th>\n",
       "      <td>2</td>\n",
       "      <td>0</td>\n",
       "    </tr>\n",
       "    <tr>\n",
       "      <th>2</th>\n",
       "      <td>3</td>\n",
       "      <td>0</td>\n",
       "    </tr>\n",
       "    <tr>\n",
       "      <th>3</th>\n",
       "      <td>4</td>\n",
       "      <td>0</td>\n",
       "    </tr>\n",
       "    <tr>\n",
       "      <th>4</th>\n",
       "      <td>5</td>\n",
       "      <td>0</td>\n",
       "    </tr>\n",
       "    <tr>\n",
       "      <th>...</th>\n",
       "      <td>...</td>\n",
       "      <td>...</td>\n",
       "    </tr>\n",
       "    <tr>\n",
       "      <th>10397</th>\n",
       "      <td>10398</td>\n",
       "      <td>0</td>\n",
       "    </tr>\n",
       "    <tr>\n",
       "      <th>10398</th>\n",
       "      <td>10399</td>\n",
       "      <td>1</td>\n",
       "    </tr>\n",
       "    <tr>\n",
       "      <th>10399</th>\n",
       "      <td>10400</td>\n",
       "      <td>0</td>\n",
       "    </tr>\n",
       "    <tr>\n",
       "      <th>10400</th>\n",
       "      <td>10401</td>\n",
       "      <td>0</td>\n",
       "    </tr>\n",
       "    <tr>\n",
       "      <th>10401</th>\n",
       "      <td>10402</td>\n",
       "      <td>0</td>\n",
       "    </tr>\n",
       "  </tbody>\n",
       "</table>\n",
       "<p>10402 rows × 2 columns</p>\n",
       "</div>"
      ],
      "text/plain": [
       "          ID  income\n",
       "0          1       0\n",
       "1          2       0\n",
       "2          3       0\n",
       "3          4       0\n",
       "4          5       0\n",
       "...      ...     ...\n",
       "10397  10398       0\n",
       "10398  10399       1\n",
       "10399  10400       0\n",
       "10400  10401       0\n",
       "10401  10402       0\n",
       "\n",
       "[10402 rows x 2 columns]"
      ]
     },
     "execution_count": 12,
     "metadata": {},
     "output_type": "execute_result"
    }
   ],
   "source": [
    "predictions_df\n"
   ]
  },
  {
   "cell_type": "code",
   "execution_count": 13,
   "metadata": {
    "ExecuteTime": {
     "end_time": "2023-10-30T22:50:05.853907Z",
     "start_time": "2023-10-30T22:50:04.905346Z"
    }
   },
   "outputs": [
    {
     "data": {
      "image/png": "[encoded data removed]",
      "text/plain": [
       "<Figure size 1000x500 with 1 Axes>"
      ]
     },
     "metadata": {},
     "output_type": "display_data"
    }
   ],
   "source": [
    "import pandas as pd\n",
    "import matplotlib.pyplot as plt\n",
    "\n",
    "# Load the predictions CSV file\n",
    "predictions_df = pd.read_csv('test_predictions.csv')\n",
    "\n",
    "# Create a histogram for predicted values\n",
    "fig, ax = plt.subplots(figsize=(10, 5))\n",
    "\n",
    "predictions_df['income'].value_counts().plot(kind='bar')\n",
    "\n",
    "plt.xlabel('Income Class')\n",
    "plt.ylabel('Frequency')\n",
    "plt.title('Distribution of Predicted Income Classes')\n",
    "plt.xticks(ticks=[0, 1], labels=['<=50K', '>50K'], rotation=0)\n",
    "plt.grid(axis='y')\n",
    "\n",
    "plt.tight_layout()\n",
    "plt.show()\n"
   ]
  },
  {
   "cell_type": "code",
   "execution_count": 14,
   "metadata": {
    "ExecuteTime": {
     "end_time": "2023-10-30T22:50:53.416291Z",
     "start_time": "2023-10-30T22:50:53.403110Z"
    }
   },
   "outputs": [
    {
     "data": {
      "text/plain": [
       "Index(['ID', 'income'], dtype='object')"
      ]
     },
     "execution_count": 14,
     "metadata": {},
     "output_type": "execute_result"
    }
   ],
   "source": [
    "predictions_df.columns"
   ]
  },
  {
   "cell_type": "code",
   "execution_count": null,
   "metadata": {},
   "outputs": [],
   "source": []
  }
 ],
 "metadata": {
  "kernelspec": {
   "display_name": "Python 3 (ipykernel)",
   "language": "python",
   "name": "python3"
  },
  "language_info": {
   "codemirror_mode": {
    "name": "ipython",
    "version": 3
   },
   "file_extension": ".py",
   "mimetype": "text/x-python",
   "name": "python",
   "nbconvert_exporter": "python",
   "pygments_lexer": "ipython3",
   "version": "3.10.9"
  },
  "toc": {
   "base_numbering": 1,
   "nav_menu": {},
   "number_sections": true,
   "sideBar": true,
   "skip_h1_title": false,
   "title_cell": "Table of Contents",
   "title_sidebar": "Contents",
   "toc_cell": false,
   "toc_position": {},
   "toc_section_display": true,
   "toc_window_display": false
  },
  "varInspector": {
   "cols": {
    "lenName": 16,
    "lenType": 16,
    "lenVar": 40
   },
   "kernels_config": {
    "python": {
     "delete_cmd_postfix": "",
     "delete_cmd_prefix": "del ",
     "library": "var_list.py",
     "varRefreshCmd": "print(var_dic_list())"
    },
    "r": {
     "delete_cmd_postfix": ") ",
     "delete_cmd_prefix": "rm(",
     "library": "var_list.r",
     "varRefreshCmd": "cat(var_dic_list()) "
    }
   },
   "types_to_exclude": [
    "module",
    "function",
    "builtin_function_or_method",
    "instance",
    "_Feature"
   ],
   "window_display": false
  }
 },
 "nbformat": 4,
 "nbformat_minor": 4
}
